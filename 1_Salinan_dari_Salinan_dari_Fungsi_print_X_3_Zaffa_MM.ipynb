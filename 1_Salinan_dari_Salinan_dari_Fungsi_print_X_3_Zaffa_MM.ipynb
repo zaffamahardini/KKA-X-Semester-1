{
  "nbformat": 4,
  "nbformat_minor": 0,
  "metadata": {
    "colab": {
      "provenance": [],
      "authorship_tag": "ABX9TyMTRkRPUpD1khhVQOTo84oZ",
      "include_colab_link": true
    },
    "kernelspec": {
      "name": "python3",
      "display_name": "Python 3"
    },
    "language_info": {
      "name": "python"
    }
  },
  "cells": [
    {
      "cell_type": "markdown",
      "metadata": {
        "id": "view-in-github",
        "colab_type": "text"
      },
      "source": [
        "<a href=\"https://colab.research.google.com/github/zaffamahardini/KKA-X-Semester-1/blob/main/1_Salinan_dari_Salinan_dari_Fungsi_print_X_3_Zaffa_MM.ipynb\" target=\"_parent\"><img src=\"https://colab.research.google.com/assets/colab-badge.svg\" alt=\"Open In Colab\"/></a>"
      ]
    },
    {
      "cell_type": "markdown",
      "source": [
        "Nama:Zaffa Mahira Mahardini\n",
        "\n",
        "Kelas:X.3\n",
        "\n",
        "Absen:34"
      ],
      "metadata": {
        "id": "jtW7I7iolv4M"
      }
    },
    {
      "cell_type": "code",
      "execution_count": null,
      "metadata": {
        "id": "Z88W5MqklZhF",
        "colab": {
          "base_uri": "https://localhost:8080/"
        },
        "outputId": "076c7a19-a2c8-417d-dc32-78e1f11b4b3b"
      },
      "outputs": [
        {
          "output_type": "stream",
          "name": "stdout",
          "text": [
            "Zaffa Mahira Mahardini\n"
          ]
        }
      ],
      "source": [
        "print(\"Zaffa Mahira Mahardini\")"
      ]
    },
    {
      "cell_type": "code",
      "source": [
        "print('Zaffa Mahira Mahardini')"
      ],
      "metadata": {
        "colab": {
          "base_uri": "https://localhost:8080/"
        },
        "id": "Z39S-J1BmWMD",
        "outputId": "49207c5a-7193-439c-ca59-ca8ca4488abe"
      },
      "execution_count": null,
      "outputs": [
        {
          "output_type": "stream",
          "name": "stdout",
          "text": [
            "Zaffa Mahira Mahardini\n"
          ]
        }
      ]
    },
    {
      "cell_type": "markdown",
      "source": [
        "#Menampilkan Nilai Variabel"
      ],
      "metadata": {
        "id": "0ORptMVzmlGe"
      }
    },
    {
      "cell_type": "code",
      "source": [
        "Nama=\"Zaffa Mahira Mahardini \"\n",
        "usia=14"
      ],
      "metadata": {
        "id": "rnbjvPKKl_M9"
      },
      "execution_count": null,
      "outputs": []
    },
    {
      "cell_type": "markdown",
      "source": [],
      "metadata": {
        "id": "ndNMfWxho_im"
      }
    },
    {
      "cell_type": "code",
      "source": [
        "print(Nama)"
      ],
      "metadata": {
        "colab": {
          "base_uri": "https://localhost:8080/"
        },
        "id": "Q2XtEsfkmQFJ",
        "outputId": "9c7935f6-7c8d-43ff-c7ba-e92868902b06"
      },
      "execution_count": null,
      "outputs": [
        {
          "output_type": "stream",
          "name": "stdout",
          "text": [
            "Zaffa Mahira Mahardini \n"
          ]
        }
      ]
    },
    {
      "cell_type": "code",
      "source": [
        "print(\"Nama\")"
      ],
      "metadata": {
        "colab": {
          "base_uri": "https://localhost:8080/"
        },
        "id": "V_KzLQBnmyZH",
        "outputId": "67fa6b72-d022-4e21-9482-d4d25bbd7d12"
      },
      "execution_count": null,
      "outputs": [
        {
          "output_type": "stream",
          "name": "stdout",
          "text": [
            "Nama\n"
          ]
        }
      ]
    },
    {
      "cell_type": "code",
      "source": [
        "print(usia)"
      ],
      "metadata": {
        "colab": {
          "base_uri": "https://localhost:8080/"
        },
        "id": "rS0yUVIam8LG",
        "outputId": "43a2552c-5528-4def-ac47-6d50dceee681"
      },
      "execution_count": null,
      "outputs": [
        {
          "output_type": "stream",
          "name": "stdout",
          "text": [
            "14\n"
          ]
        }
      ]
    },
    {
      "cell_type": "code",
      "source": [
        "print(\"usia\")"
      ],
      "metadata": {
        "colab": {
          "base_uri": "https://localhost:8080/"
        },
        "id": "IBjajg79nQyp",
        "outputId": "c96ac961-ece3-42ff-ccf2-d1ac8ec25c21"
      },
      "execution_count": null,
      "outputs": [
        {
          "output_type": "stream",
          "name": "stdout",
          "text": [
            "usia\n"
          ]
        }
      ]
    },
    {
      "cell_type": "code",
      "source": [
        "Berat_badan=53"
      ],
      "metadata": {
        "id": "KF5U5dgHqvt3"
      },
      "execution_count": null,
      "outputs": []
    },
    {
      "cell_type": "code",
      "source": [
        "Nama_saudara=\"Hikmatul MMunawwiroh\""
      ],
      "metadata": {
        "id": "dCPwZ1Qnr-6r"
      },
      "execution_count": null,
      "outputs": []
    },
    {
      "cell_type": "markdown",
      "source": [
        "#Menampilkan Nilai Variabel dan Teks Bebas"
      ],
      "metadata": {
        "id": "QWYhADuzt-UH"
      }
    },
    {
      "cell_type": "code",
      "source": [
        "print(\"Halo nama saya\",Nama,\". Usia saya\",usia,\"tahun.\")"
      ],
      "metadata": {
        "colab": {
          "base_uri": "https://localhost:8080/",
          "height": 297
        },
        "id": "HizEfca6uEOB",
        "outputId": "cf9cda6d-0f0c-4183-830c-f7c53115465b"
      },
      "execution_count": null,
      "outputs": [
        {
          "output_type": "error",
          "ename": "NameError",
          "evalue": "name 'Nama' is not defined",
          "traceback": [
            "\u001b[0;31m---------------------------------------------------------------------------\u001b[0m",
            "\u001b[0;31mNameError\u001b[0m                                 Traceback (most recent call last)",
            "\u001b[0;32m/tmp/ipython-input-939727651.py\u001b[0m in \u001b[0;36m<cell line: 0>\u001b[0;34m()\u001b[0m\n\u001b[0;32m----> 1\u001b[0;31m \u001b[0mprint\u001b[0m\u001b[0;34m(\u001b[0m\u001b[0;34m\"Halo nama saya\"\u001b[0m\u001b[0;34m,\u001b[0m\u001b[0mNama\u001b[0m\u001b[0;34m,\u001b[0m\u001b[0;34m\". Usia saya\"\u001b[0m\u001b[0;34m,\u001b[0m\u001b[0musia\u001b[0m\u001b[0;34m,\u001b[0m\u001b[0;34m\"tahun.\"\u001b[0m\u001b[0;34m)\u001b[0m\u001b[0;34m\u001b[0m\u001b[0;34m\u001b[0m\u001b[0m\n\u001b[0m",
            "\u001b[0;31mNameError\u001b[0m: name 'Nama' is not defined"
          ]
        }
      ]
    },
    {
      "cell_type": "code",
      "source": [
        "print(\"Halo nama saya \"+Nama+\". Usia saya \"+str(usia)+\" tahun.\")"
      ],
      "metadata": {
        "colab": {
          "base_uri": "https://localhost:8080/"
        },
        "id": "eZXF_lsdu1qh",
        "outputId": "499838b9-0dda-4ede-fc60-07bf90a19342"
      },
      "execution_count": null,
      "outputs": [
        {
          "output_type": "stream",
          "name": "stdout",
          "text": [
            "Halo nama saya Zaffa Mahira Mahardini . Usia saya 14 tahun.\n"
          ]
        }
      ]
    },
    {
      "cell_type": "code",
      "source": [
        "print(f\"Halo nama saya {Nama}.Usia saya{usia} tahun.\")"
      ],
      "metadata": {
        "colab": {
          "base_uri": "https://localhost:8080/"
        },
        "id": "FLDz1kb1vOF0",
        "outputId": "426ffb72-5c32-434f-9682-4f74718e700c"
      },
      "execution_count": null,
      "outputs": [
        {
          "output_type": "stream",
          "name": "stdout",
          "text": [
            "Halo nama saya Zaffa Mahira Mahardini .Usia saya14 tahun.\n"
          ]
        }
      ]
    },
    {
      "cell_type": "code",
      "source": [
        "print(\"Nama saudara saya adalah\",Nama_saudara,\". Berat badannya adalah\",Berat_badan,\"kg.\")"
      ],
      "metadata": {
        "colab": {
          "base_uri": "https://localhost:8080/"
        },
        "id": "zq_YRVnbvhgu",
        "outputId": "a1ab3073-e792-4fef-b107-dde619c5cba4"
      },
      "execution_count": null,
      "outputs": [
        {
          "output_type": "stream",
          "name": "stdout",
          "text": [
            "Nama saudara saya adalah Hikmatul MMunawwiroh . Berat badannya adalah 53 kg.\n"
          ]
        }
      ]
    },
    {
      "cell_type": "code",
      "source": [
        "print(\"Nama saudara saya adalah \"+Nama_saudara+\". Berat badannya adalah \"+str(Berat_badan)+\"kg.\")"
      ],
      "metadata": {
        "colab": {
          "base_uri": "https://localhost:8080/"
        },
        "id": "P7MRG9QMw7AM",
        "outputId": "fdf184fc-4165-4a28-d0a2-e31a9bb304c3"
      },
      "execution_count": null,
      "outputs": [
        {
          "output_type": "stream",
          "name": "stdout",
          "text": [
            "Nama saudara saya adalah Hikmatul MMunawwiroh. Berat badannya adalah 53kg.\n"
          ]
        }
      ]
    },
    {
      "cell_type": "code",
      "source": [
        "print(f\"Nama saudara saya adalah {Nama_saudara}. Berat badannya adalah {Berat_badan} kg.\")"
      ],
      "metadata": {
        "colab": {
          "base_uri": "https://localhost:8080/"
        },
        "id": "F_ZDNFLoxLBK",
        "outputId": "f103c5b8-c73d-48e6-cf76-fdee38b97ea2"
      },
      "execution_count": null,
      "outputs": [
        {
          "output_type": "stream",
          "name": "stdout",
          "text": [
            "Nama saudara saya adalah Hikmatul MMunawwiroh. Berat badannya adalah 53 kg.\n"
          ]
        }
      ]
    },
    {
      "cell_type": "markdown",
      "source": [
        "#Escape Character"
      ],
      "metadata": {
        "id": "-REz_yeVv-ne"
      }
    },
    {
      "cell_type": "code",
      "source": [
        "print(\"Nama: Zaffa MM\n",
        "Kelas : X.3\n",
        "No absen:34\")"
      ],
      "metadata": {
        "colab": {
          "base_uri": "https://localhost:8080/",
          "height": 158
        },
        "id": "EQME1o82wVNS",
        "outputId": "7de0b640-dccc-4e95-e1eb-2af00feee2a4"
      },
      "execution_count": null,
      "outputs": [
        {
          "output_type": "error",
          "ename": "SyntaxError",
          "evalue": "unterminated string literal (detected at line 1) (ipython-input-2516975789.py, line 1)",
          "traceback": [
            "\u001b[0;36m  File \u001b[0;32m\"/tmp/ipython-input-2516975789.py\"\u001b[0;36m, line \u001b[0;32m1\u001b[0m\n\u001b[0;31m    print(\"Nama: Zaffa MM\u001b[0m\n\u001b[0m          ^\u001b[0m\n\u001b[0;31mSyntaxError\u001b[0m\u001b[0;31m:\u001b[0m unterminated string literal (detected at line 1)\n"
          ]
        }
      ]
    },
    {
      "cell_type": "code",
      "source": [
        "print(\"Nama: Zaffa MM\")\n",
        "print(\"Kelas:X.3\")\n",
        "print(\"No absen:34\")"
      ],
      "metadata": {
        "colab": {
          "base_uri": "https://localhost:8080/"
        },
        "id": "cm_k4rclxGHH",
        "outputId": "3c2695e2-0384-45a5-e2b3-b53c9eb7e939"
      },
      "execution_count": null,
      "outputs": [
        {
          "output_type": "stream",
          "name": "stdout",
          "text": [
            "Nama: Zaffa MM\n",
            "Kelas:X.3\n",
            "No absen:34\n"
          ]
        }
      ]
    },
    {
      "cell_type": "code",
      "source": [
        "print(\"Nama: Zaffa MM\\nKelas:X.3\\nNo Absen:34\")"
      ],
      "metadata": {
        "colab": {
          "base_uri": "https://localhost:8080/"
        },
        "id": "SvsltmC8yKYR",
        "outputId": "26197c4c-2e99-497a-dd93-59f59f29a389"
      },
      "execution_count": null,
      "outputs": [
        {
          "output_type": "stream",
          "name": "stdout",
          "text": [
            "Nama: Zaffa MM\n",
            "Kelas:X.3\n",
            "No Absen:34\n"
          ]
        }
      ]
    },
    {
      "cell_type": "code",
      "source": [
        "print(\"\"\"Nama\\t\\t:Zaffa MM\n",
        "Kelas\\t\\t:X.3\n",
        "No Absen\\t\\t:34\"\"\")"
      ],
      "metadata": {
        "colab": {
          "base_uri": "https://localhost:8080/"
        },
        "id": "fttwVcY4yhO1",
        "outputId": "7d57add9-9c30-4f87-b5fd-71e1e4f75b48"
      },
      "execution_count": null,
      "outputs": [
        {
          "output_type": "stream",
          "name": "stdout",
          "text": [
            "Nama\t\t:Zaffa MM\n",
            "Kelas\t\t:X.3\n",
            "No Absen\t\t:34\n"
          ]
        }
      ]
    },
    {
      "cell_type": "code",
      "source": [
        "print(\"Nama: Habibie A'inun\")"
      ],
      "metadata": {
        "colab": {
          "base_uri": "https://localhost:8080/"
        },
        "id": "hVv9F7fky8OE",
        "outputId": "aeb2b161-99f1-48cc-da9a-326dfff0ede8"
      },
      "execution_count": null,
      "outputs": [
        {
          "output_type": "stream",
          "name": "stdout",
          "text": [
            "Nama: Habibie A'inun\n"
          ]
        }
      ]
    },
    {
      "cell_type": "code",
      "source": [
        "print('Nama: Habibie Ainun')"
      ],
      "metadata": {
        "colab": {
          "base_uri": "https://localhost:8080/"
        },
        "id": "bC0ZsZ7hzP6P",
        "outputId": "a96ef77a-18e2-4025-b21f-3a3861740d2e"
      },
      "execution_count": null,
      "outputs": [
        {
          "output_type": "stream",
          "name": "stdout",
          "text": [
            "Nama: Habibie Ainun\n"
          ]
        }
      ]
    },
    {
      "cell_type": "code",
      "source": [
        "print('Nama: Habibie A\\'inun')"
      ],
      "metadata": {
        "colab": {
          "base_uri": "https://localhost:8080/"
        },
        "id": "UcDdjCLSzXTq",
        "outputId": "4a0e2fb9-3406-4211-f340-7cd9ebd2adde"
      },
      "execution_count": null,
      "outputs": [
        {
          "output_type": "stream",
          "name": "stdout",
          "text": [
            "Nama: Habibie A'inun\n"
          ]
        }
      ]
    },
    {
      "cell_type": "code",
      "source": [
        "print(\"Nama: Habibie A'inun\")"
      ],
      "metadata": {
        "colab": {
          "base_uri": "https://localhost:8080/"
        },
        "id": "e1SONHlfzgpb",
        "outputId": "bf799e2b-55e0-44e6-a0fc-42bb307abac5"
      },
      "execution_count": null,
      "outputs": [
        {
          "output_type": "stream",
          "name": "stdout",
          "text": [
            "Nama: Habibie A'inun\n"
          ]
        }
      ]
    },
    {
      "cell_type": "code",
      "source": [
        "print(\"Bu Shinta berkata,\\\"Silahkan lihat ke layar TV.\\\".\")"
      ],
      "metadata": {
        "colab": {
          "base_uri": "https://localhost:8080/"
        },
        "id": "8IOJiSDkzqbg",
        "outputId": "4f1f5e22-d6d1-4a69-d039-eddcf1afe258"
      },
      "execution_count": null,
      "outputs": [
        {
          "output_type": "stream",
          "name": "stdout",
          "text": [
            "Bu Shinta berkata,\"Silahkan lihat ke layar TV.\".\n"
          ]
        }
      ]
    },
    {
      "cell_type": "code",
      "source": [
        "print('Bu Shinta berkata, \"Silahkan lihat ke layar TV.\".')"
      ],
      "metadata": {
        "colab": {
          "base_uri": "https://localhost:8080/"
        },
        "id": "Q06xOtPf0E4L",
        "outputId": "74c4863b-8606-4530-e7f1-fdb3d07006fd"
      },
      "execution_count": null,
      "outputs": [
        {
          "output_type": "stream",
          "name": "stdout",
          "text": [
            "Bu Shinta berkata, \"Silahkan lihat ke layar TV.\".\n"
          ]
        }
      ]
    },
    {
      "cell_type": "code",
      "source": [
        "print(\"\"\"Nama file: Tugas KKA\n",
        "Lokasi file: D:\\\\MAN Demak\\\\KKA\"\"\")"
      ],
      "metadata": {
        "colab": {
          "base_uri": "https://localhost:8080/"
        },
        "id": "nK11rDsx0YVs",
        "outputId": "52df02f3-bf7e-4c27-ae4c-347b420d7baf"
      },
      "execution_count": null,
      "outputs": [
        {
          "output_type": "stream",
          "name": "stdout",
          "text": [
            "Nama file: Tugas KKA\n",
            "Lokasi file: D:\\MAN Demak\\KKA\n"
          ]
        }
      ]
    },
    {
      "cell_type": "markdown",
      "source": [
        "Latihan Soal:\n",
        "\n",
        "Tampilkan teks sebagai berikut:\n",
        "\n",
        "Nama file:Ulangan Harian Ma'rifatullah\n",
        "\n",
        "Lokasi file:D:\\Mata kuliah\\Ma'rifatullah\n",
        "\n",
        "Peraturan:\n",
        "\n",
        "●Gunakan satu fungsi print\n",
        "\n",
        "●Gunakan kutip satu\n",
        "\n",
        "●Rapihkan tanda titik dua-nya dengan tab"
      ],
      "metadata": {
        "id": "WLfr4H2_1AuO"
      }
    },
    {
      "cell_type": "code",
      "source": [
        "print('Nama file\\t: Ulangan Harian Ma\\'rifatullah\\nLokasi file\\t: D:\\\\Mata kuliah\\\\Ma\\'rifatullah')"
      ],
      "metadata": {
        "colab": {
          "base_uri": "https://localhost:8080/"
        },
        "id": "dVfiUEB-3Mbf",
        "outputId": "f40fdfa0-7b46-4f8c-9357-bd3da27749b0"
      },
      "execution_count": null,
      "outputs": [
        {
          "output_type": "stream",
          "name": "stdout",
          "text": [
            "Nama file\t: Ulangan Harian Ma'rifatullah\n",
            "Lokasi file\t: D:\\Mata kuliah\\Ma'rifatullah\n"
          ]
        }
      ]
    }
  ]
}