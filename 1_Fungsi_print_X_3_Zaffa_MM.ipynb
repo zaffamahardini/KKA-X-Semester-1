{
  "nbformat": 4,
  "nbformat_minor": 0,
  "metadata": {
    "colab": {
      "provenance": [],
      "authorship_tag": "ABX9TyMTvp2M/xHcpb6lEhSgD3VZ",
      "include_colab_link": true
    },
    "kernelspec": {
      "name": "python3",
      "display_name": "Python 3"
    },
    "language_info": {
      "name": "python"
    }
  },
  "cells": [
    {
      "cell_type": "markdown",
      "metadata": {
        "id": "view-in-github",
        "colab_type": "text"
      },
      "source": [
        "<a href=\"https://colab.research.google.com/github/zaffamahardini/KKA-X-Semester-1/blob/main/1_Fungsi_print_X_3_Zaffa_MM.ipynb\" target=\"_parent\"><img src=\"https://colab.research.google.com/assets/colab-badge.svg\" alt=\"Open In Colab\"/></a>"
      ]
    },
    {
      "cell_type": "markdown",
      "source": [
        "Nama:Zaffa Mahira Mahardini\n",
        "\n",
        "Kelas:X.3\n",
        "\n",
        "Absen:34"
      ],
      "metadata": {
        "id": "jtW7I7iolv4M"
      }
    },
    {
      "cell_type": "code",
      "execution_count": null,
      "metadata": {
        "id": "Z88W5MqklZhF",
        "colab": {
          "base_uri": "https://localhost:8080/"
        },
        "outputId": "80e11649-1975-4958-9db7-75541e9e6d3d"
      },
      "outputs": [
        {
          "output_type": "stream",
          "name": "stdout",
          "text": [
            "Zaffa Mahira Mahardini\n"
          ]
        }
      ],
      "source": [
        "print(\"Zaffa Mahira Mahardini\")"
      ]
    },
    {
      "cell_type": "code",
      "source": [
        "print('Zaffa Mahira Mahardini')"
      ],
      "metadata": {
        "colab": {
          "base_uri": "https://localhost:8080/"
        },
        "id": "Z39S-J1BmWMD",
        "outputId": "6f1f679c-8660-435e-c6a8-b98d90253dd8"
      },
      "execution_count": null,
      "outputs": [
        {
          "output_type": "stream",
          "name": "stdout",
          "text": [
            "Zaffa Mahira Mahardini\n"
          ]
        }
      ]
    },
    {
      "cell_type": "markdown",
      "source": [
        "#Menampilkan Nilai Variabel"
      ],
      "metadata": {
        "id": "0ORptMVzmlGe"
      }
    },
    {
      "cell_type": "code",
      "source": [
        "Nama=\"Zaffa Mahira Mahardini \"\n",
        "usia=14\n"
      ],
      "metadata": {
        "id": "rnbjvPKKl_M9"
      },
      "execution_count": null,
      "outputs": []
    },
    {
      "cell_type": "markdown",
      "source": [],
      "metadata": {
        "id": "ndNMfWxho_im"
      }
    },
    {
      "cell_type": "code",
      "source": [
        "print(Nama)"
      ],
      "metadata": {
        "colab": {
          "base_uri": "https://localhost:8080/"
        },
        "id": "Q2XtEsfkmQFJ",
        "outputId": "86ac81d6-56b7-4c37-ab78-e0c1b731a085"
      },
      "execution_count": null,
      "outputs": [
        {
          "output_type": "stream",
          "name": "stdout",
          "text": [
            "Zaffa Mahira Mahardini \n"
          ]
        }
      ]
    },
    {
      "cell_type": "code",
      "source": [
        "print(\"Nama\")"
      ],
      "metadata": {
        "colab": {
          "base_uri": "https://localhost:8080/"
        },
        "id": "V_KzLQBnmyZH",
        "outputId": "090c29d2-319a-45f9-f37f-5e9b57cee12d"
      },
      "execution_count": null,
      "outputs": [
        {
          "output_type": "stream",
          "name": "stdout",
          "text": [
            "Nama\n"
          ]
        }
      ]
    },
    {
      "cell_type": "code",
      "source": [
        "print(usia)"
      ],
      "metadata": {
        "colab": {
          "base_uri": "https://localhost:8080/"
        },
        "id": "rS0yUVIam8LG",
        "outputId": "b2daec60-2c16-4228-b289-a5f6fbfb50ed"
      },
      "execution_count": null,
      "outputs": [
        {
          "output_type": "stream",
          "name": "stdout",
          "text": [
            "14\n"
          ]
        }
      ]
    },
    {
      "cell_type": "code",
      "source": [
        "print(\"usia\")"
      ],
      "metadata": {
        "colab": {
          "base_uri": "https://localhost:8080/"
        },
        "id": "IBjajg79nQyp",
        "outputId": "afc900fa-5390-46eb-c80f-3f3e7fc60d6d"
      },
      "execution_count": null,
      "outputs": [
        {
          "output_type": "stream",
          "name": "stdout",
          "text": [
            "usia\n"
          ]
        }
      ]
    },
    {
      "cell_type": "code",
      "source": [
        "Berat_badan=53"
      ],
      "metadata": {
        "id": "KF5U5dgHqvt3"
      },
      "execution_count": null,
      "outputs": []
    },
    {
      "cell_type": "code",
      "source": [
        "Nama_saudara=\"Hikmatul MMunawwiroh\""
      ],
      "metadata": {
        "id": "dCPwZ1Qnr-6r"
      },
      "execution_count": null,
      "outputs": []
    },
    {
      "cell_type": "markdown",
      "source": [
        "#Menampilkan Nilai Variabel dan Teks Bebas"
      ],
      "metadata": {
        "id": "0a1kgsBLtwNf"
      }
    }
  ]
}